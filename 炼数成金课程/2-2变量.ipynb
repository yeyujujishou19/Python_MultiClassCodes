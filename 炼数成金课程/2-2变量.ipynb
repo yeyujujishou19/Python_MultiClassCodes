{
 "cells": [
  {
   "cell_type": "code",
   "execution_count": 2,
   "metadata": {},
   "outputs": [],
   "source": [
    "import tensorflow as tf"
   ]
  },
  {
   "cell_type": "code",
   "execution_count": 3,
   "metadata": {},
   "outputs": [
    {
     "name": "stdout",
     "output_type": "stream",
     "text": [
      "[-2 -1]\n",
      "[-1  1]\n"
     ]
    }
   ],
   "source": [
    "x=tf.Variable([1,2])  #定义变量\n",
    "a=tf.constant([3,3])  #定义常量\n",
    "sub=tf.subtract(x,a)  #定义减法op\n",
    "add=tf.add(x,sub)     #定义加法op\n",
    "init =tf.global_variables_initializer()  #初始化变量\n",
    "\n",
    "with tf.Session() as sess:  #定义会话\n",
    "    sess.run(init)\n",
    "    print(sess.run(sub))\n",
    "    print(sess.run(add))"
   ]
  },
  {
   "cell_type": "code",
   "execution_count": 4,
   "metadata": {},
   "outputs": [
    {
     "name": "stdout",
     "output_type": "stream",
     "text": [
      "0\n",
      "1\n",
      "2\n",
      "3\n",
      "4\n",
      "5\n"
     ]
    }
   ],
   "source": [
    "#创建一个变量初始化为0\n",
    "state=tf.Variable(0,name='counter')\n",
    "#创建一个op，作用是使state加1\n",
    "new_value=tf.add(state,1)\n",
    "#赋值op\n",
    "update=tf.assign(state,new_value)\n",
    "init =tf.global_variables_initializer()\n",
    "\n",
    "with tf.Session() as sess:\n",
    "    sess.run(init)\n",
    "    print(sess.run(state))\n",
    "    for _ in range(5):\n",
    "        sess.run(update)\n",
    "        print(sess.run(state))"
   ]
  },
  {
   "cell_type": "code",
   "execution_count": null,
   "metadata": {},
   "outputs": [],
   "source": []
  }
 ],
 "metadata": {
  "kernelspec": {
   "display_name": "Python 3",
   "language": "python",
   "name": "python3"
  },
  "language_info": {
   "codemirror_mode": {
    "name": "ipython",
    "version": 3
   },
   "file_extension": ".py",
   "mimetype": "text/x-python",
   "name": "python",
   "nbconvert_exporter": "python",
   "pygments_lexer": "ipython3",
   "version": "3.6.1"
  }
 },
 "nbformat": 4,
 "nbformat_minor": 2
}
