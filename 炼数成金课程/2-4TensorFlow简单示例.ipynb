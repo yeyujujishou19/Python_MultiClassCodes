{
 "cells": [
  {
   "cell_type": "code",
   "execution_count": 5,
   "metadata": {},
   "outputs": [],
   "source": [
    "import tensorflow as tf\n",
    "import numpy as np"
   ]
  },
  {
   "cell_type": "code",
   "execution_count": 8,
   "metadata": {},
   "outputs": [
    {
     "name": "stdout",
     "output_type": "stream",
     "text": [
      "0 [0.28130466, 0.66537726]\n",
      "20 [0.077401854, 0.21146692]\n",
      "40 [0.08828743, 0.20594294]\n",
      "60 [0.09392947, 0.20308018]\n",
      "80 [0.096853696, 0.20159642]\n",
      "100 [0.098369285, 0.20082742]\n",
      "120 [0.09915481, 0.20042884]\n",
      "140 [0.09956193, 0.20022228]\n",
      "160 [0.099772945, 0.2001152]\n",
      "180 [0.09988232, 0.20005971]\n",
      "200 [0.099939, 0.20003095]\n"
     ]
    }
   ],
   "source": [
    "#使用numpy生成100个随机点\n",
    "x_data=np.random.rand(100)\n",
    "y_data=x_data*0.1+0.2\n",
    "\n",
    "#构造一个线性模型\n",
    "b=tf.Variable(1.1)\n",
    "k=tf.Variable(0.5)\n",
    "y=k*x_data+b\n",
    "        \n",
    "#二次代价函数\n",
    "loss=tf.reduce_mean(tf.square(y_data-y))\n",
    "#定义一个梯度下降法来进行训练的优化器\n",
    "optimizer=tf.train.GradientDescentOptimizer(0.2)\n",
    "#最小化代价函数\n",
    "train=optimizer.minimize(loss)\n",
    "\n",
    "#初始化变量\n",
    "init=tf.global_variables_initializer()\n",
    "\n",
    "with tf.Session() as sess:\n",
    "    sess.run(init)\n",
    "    for step in range(201):\n",
    "        sess.run(train)\n",
    "        if(step%20==0):\n",
    "            print(step,sess.run([k,b]))"
   ]
  },
  {
   "cell_type": "code",
   "execution_count": null,
   "metadata": {},
   "outputs": [],
   "source": []
  },
  {
   "cell_type": "code",
   "execution_count": null,
   "metadata": {},
   "outputs": [],
   "source": []
  }
 ],
 "metadata": {
  "kernelspec": {
   "display_name": "Python 3",
   "language": "python",
   "name": "python3"
  },
  "language_info": {
   "codemirror_mode": {
    "name": "ipython",
    "version": 3
   },
   "file_extension": ".py",
   "mimetype": "text/x-python",
   "name": "python",
   "nbconvert_exporter": "python",
   "pygments_lexer": "ipython3",
   "version": "3.6.1"
  }
 },
 "nbformat": 4,
 "nbformat_minor": 2
}
