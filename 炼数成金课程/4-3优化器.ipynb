{
 "cells": [
  {
   "cell_type": "code",
   "execution_count": 2,
   "metadata": {},
   "outputs": [],
   "source": [
    "import tensorflow as tf\n",
    "from tensorflow.examples.tutorials.mnist import input_data"
   ]
  },
  {
   "cell_type": "code",
   "execution_count": 7,
   "metadata": {},
   "outputs": [
    {
     "name": "stdout",
     "output_type": "stream",
     "text": [
      "Extracting E:\\sxl_Programs\\Python\\MNIST_data\\MNIST_data\\train-images-idx3-ubyte.gz\n",
      "Extracting E:\\sxl_Programs\\Python\\MNIST_data\\MNIST_data\\train-labels-idx1-ubyte.gz\n",
      "Extracting E:\\sxl_Programs\\Python\\MNIST_data\\MNIST_data\\t10k-images-idx3-ubyte.gz\n",
      "Extracting E:\\sxl_Programs\\Python\\MNIST_data\\MNIST_data\\t10k-labels-idx1-ubyte.gz\n",
      "Iter0,Testing Accuracy0.4542\n",
      "Iter1,Testing Accuracy0.5531\n",
      "Iter2,Testing Accuracy0.5653\n",
      "Iter3,Testing Accuracy0.6147\n",
      "Iter4,Testing Accuracy0.6633\n",
      "Iter5,Testing Accuracy0.705\n",
      "Iter6,Testing Accuracy0.7392\n",
      "Iter7,Testing Accuracy0.7712\n",
      "Iter8,Testing Accuracy0.7849\n",
      "Iter9,Testing Accuracy0.7905\n",
      "Iter10,Testing Accuracy0.7949\n",
      "Iter11,Testing Accuracy0.7974\n",
      "Iter12,Testing Accuracy0.8\n",
      "Iter13,Testing Accuracy0.8021\n",
      "Iter14,Testing Accuracy0.8041\n",
      "Iter15,Testing Accuracy0.8055\n",
      "Iter16,Testing Accuracy0.8074\n",
      "Iter17,Testing Accuracy0.8089\n",
      "Iter18,Testing Accuracy0.8106\n",
      "Iter19,Testing Accuracy0.8119\n",
      "Iter20,Testing Accuracy0.8131\n"
     ]
    }
   ],
   "source": [
    "#载入数据\n",
    "mnist=input_data.read_data_sets(\"E:\\sxl_Programs\\Python\\MNIST_data\\MNIST_data\",one_hot=True)\n",
    "\n",
    "#每个批次的大小\n",
    "batch_size=20\n",
    "#计算一共有多少个批次\n",
    "n_batch=mnist.train.num_examples // batch_size\n",
    "\n",
    "#定义两个placeholder\n",
    "x=tf.placeholder(tf.float32,[None,784])\n",
    "y=tf.placeholder(tf.float32,[None,10])\n",
    "\n",
    "#创建一个简单的神经网络\n",
    "W=tf.Variable(tf.zeros([784,10]))\n",
    "b=tf.Variable(tf.zeros([10]))\n",
    "prediction=tf.nn.softmax(tf.matmul(x,W)+b)\n",
    "\n",
    "#二次代价函数\n",
    "# loss=tf.reduce_mean(tf.square(y-prediction))\n",
    "#交叉熵\n",
    "loss=tf.reduce_mean(tf.nn.softmax_cross_entropy_with_logits(labels=y,logits=prediction))\n",
    "#使用梯度下降算法\n",
    "# train_step=tf.train.GradientDescentOptimizer(0.001).minimize(loss)\n",
    "train_step=tf.train.AdamOptimizer(0.001).minimize(loss)\n",
    "\n",
    "#初始化变量\n",
    "init=tf.global_variables_initializer()\n",
    "\n",
    "#结果存放在一个布尔型列表中\n",
    "correct_prediction=tf.equal(tf.argmax(y,1),tf.argmax(prediction,1)) #argmax返回一位数组中最大值的下标\n",
    "#求准确率\n",
    "accuracy=tf.reduce_mean(tf.cast(correct_prediction,tf.float32))\n",
    "\n",
    "with tf.Session() as sess:\n",
    "    sess.run(init)\n",
    "    for epoch in range(21):\n",
    "        for batch in range(n_batch):\n",
    "            batch_xs,batch_ys=mnist.train.next_batch(batch_size)\n",
    "            sess.run(train_step,feed_dict={x:batch_xs,y:batch_ys})\n",
    "        acc=sess.run(accuracy,feed_dict={x:mnist.test.images,y:mnist.test.labels})\n",
    "        print(\"Iter\"+str(epoch)+\",Testing Accuracy\"+str(acc))"
   ]
  },
  {
   "cell_type": "code",
   "execution_count": null,
   "metadata": {},
   "outputs": [],
   "source": []
  }
 ],
 "metadata": {
  "kernelspec": {
   "display_name": "Python 3",
   "language": "python",
   "name": "python3"
  },
  "language_info": {
   "codemirror_mode": {
    "name": "ipython",
    "version": 3
   },
   "file_extension": ".py",
   "mimetype": "text/x-python",
   "name": "python",
   "nbconvert_exporter": "python",
   "pygments_lexer": "ipython3",
   "version": "3.6.1"
  }
 },
 "nbformat": 4,
 "nbformat_minor": 2
}
