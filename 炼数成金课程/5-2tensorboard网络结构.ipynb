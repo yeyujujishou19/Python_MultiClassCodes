{
 "cells": [
  {
   "cell_type": "code",
   "execution_count": 1,
   "metadata": {},
   "outputs": [],
   "source": [
    "import tensorflow as tf\n",
    "from tensorflow.examples.tutorials.mnist import input_data"
   ]
  },
  {
   "cell_type": "code",
   "execution_count": 2,
   "metadata": {},
   "outputs": [
    {
     "name": "stdout",
     "output_type": "stream",
     "text": [
      "WARNING:tensorflow:From <ipython-input-2-259d6e0deecc>:2: read_data_sets (from tensorflow.contrib.learn.python.learn.datasets.mnist) is deprecated and will be removed in a future version.\n",
      "Instructions for updating:\n",
      "Please use alternatives such as official/mnist/dataset.py from tensorflow/models.\n",
      "WARNING:tensorflow:From e:\\tools\\python\\lib\\site-packages\\tensorflow\\contrib\\learn\\python\\learn\\datasets\\mnist.py:260: maybe_download (from tensorflow.contrib.learn.python.learn.datasets.base) is deprecated and will be removed in a future version.\n",
      "Instructions for updating:\n",
      "Please write your own downloading logic.\n",
      "WARNING:tensorflow:From e:\\tools\\python\\lib\\site-packages\\tensorflow\\contrib\\learn\\python\\learn\\datasets\\mnist.py:262: extract_images (from tensorflow.contrib.learn.python.learn.datasets.mnist) is deprecated and will be removed in a future version.\n",
      "Instructions for updating:\n",
      "Please use tf.data to implement this functionality.\n",
      "Extracting E:\\sxl_Programs\\Python\\MNIST_data\\MNIST_data\\train-images-idx3-ubyte.gz\n",
      "WARNING:tensorflow:From e:\\tools\\python\\lib\\site-packages\\tensorflow\\contrib\\learn\\python\\learn\\datasets\\mnist.py:267: extract_labels (from tensorflow.contrib.learn.python.learn.datasets.mnist) is deprecated and will be removed in a future version.\n",
      "Instructions for updating:\n",
      "Please use tf.data to implement this functionality.\n",
      "Extracting E:\\sxl_Programs\\Python\\MNIST_data\\MNIST_data\\train-labels-idx1-ubyte.gz\n",
      "WARNING:tensorflow:From e:\\tools\\python\\lib\\site-packages\\tensorflow\\contrib\\learn\\python\\learn\\datasets\\mnist.py:110: dense_to_one_hot (from tensorflow.contrib.learn.python.learn.datasets.mnist) is deprecated and will be removed in a future version.\n",
      "Instructions for updating:\n",
      "Please use tf.one_hot on tensors.\n",
      "Extracting E:\\sxl_Programs\\Python\\MNIST_data\\MNIST_data\\t10k-images-idx3-ubyte.gz\n",
      "Extracting E:\\sxl_Programs\\Python\\MNIST_data\\MNIST_data\\t10k-labels-idx1-ubyte.gz\n",
      "WARNING:tensorflow:From e:\\tools\\python\\lib\\site-packages\\tensorflow\\contrib\\learn\\python\\learn\\datasets\\mnist.py:290: DataSet.__init__ (from tensorflow.contrib.learn.python.learn.datasets.mnist) is deprecated and will be removed in a future version.\n",
      "Instructions for updating:\n",
      "Please use alternatives such as official/mnist/dataset.py from tensorflow/models.\n",
      "Iter0,Testing Accuracy0.8322\n"
     ]
    }
   ],
   "source": [
    "#载入数据\n",
    "mnist=input_data.read_data_sets(\"E:\\sxl_Programs\\Python\\MNIST_data\\MNIST_data\",one_hot=True)\n",
    "\n",
    "#每个批次的大小\n",
    "batch_size=100\n",
    "#计算一共有多少个批次\n",
    "n_batch=mnist.train.num_examples // batch_size\n",
    "\n",
    "#命名空间\n",
    "with tf.name_scope('input'):\n",
    "   #定义两个placeholder\n",
    "    x=tf.placeholder(tf.float32,[None,784],name='x-input')\n",
    "    y=tf.placeholder(tf.float32,[None,10],name='y-input')\n",
    "\n",
    "with tf.name_scope('layer'):\n",
    "    #创建一个简单的神经网络\n",
    "    with tf.name_scope('wights'):\n",
    "        W=tf.Variable(tf.zeros([784,10]),name='W')\n",
    "    with tf.name_scope('biases'):\n",
    "        b=tf.Variable(tf.zeros([10]),name='b')\n",
    "    with tf.name_scope('wx_plus_b'):\n",
    "        wx_plus_b=tf.matmul(x,W)+b\n",
    "    with tf.name_scope('softmax'):\n",
    "        prediction=tf.nn.softmax(wx_plus_b)\n",
    "\n",
    "#二次代价函数\n",
    "with tf.name_scope('loss'):\n",
    "    loss=tf.reduce_mean(tf.square(y-prediction))\n",
    "with tf.name_scope('train'):\n",
    "    #使用梯度下降算法\n",
    "    train_step=tf.train.GradientDescentOptimizer(0.2).minimize(loss)\n",
    "\n",
    "#初始化变量\n",
    "init=tf.global_variables_initializer()\n",
    "\n",
    "with tf.name_scope('accuracy'):\n",
    "    with tf.name_scope('correct_prediction'):\n",
    "        #结果存放在一个布尔型列表中\n",
    "        correct_prediction=tf.equal(tf.argmax(y,1),tf.argmax(prediction,1)) #argmax返回一位数组中最大值的下标\n",
    "    with tf.name_scope('accuracy'):\n",
    "        #求准确率\n",
    "        accuracy=tf.reduce_mean(tf.cast(correct_prediction,tf.float32))\n",
    "\n",
    "with tf.Session() as sess:\n",
    "    sess.run(init)\n",
    "    write=tf.summary.FileWriter('E:/logs/',sess.graph)  #将图的结构写入文件\n",
    "    for epoch in range(1):\n",
    "        for batch in range(n_batch):\n",
    "            batch_xs,batch_ys=mnist.train.next_batch(batch_size)\n",
    "            sess.run(train_step,feed_dict={x:batch_xs,y:batch_ys})\n",
    "        acc=sess.run(accuracy,feed_dict={x:mnist.test.images,y:mnist.test.labels})\n",
    "        print(\"Iter\"+str(epoch)+\",Testing Accuracy\"+str(acc))\n"
   ]
  },
  {
   "cell_type": "code",
   "execution_count": null,
   "metadata": {},
   "outputs": [],
   "source": []
  },
  {
   "cell_type": "code",
   "execution_count": null,
   "metadata": {},
   "outputs": [],
   "source": []
  }
 ],
 "metadata": {
  "kernelspec": {
   "display_name": "Python 3",
   "language": "python",
   "name": "python3"
  },
  "language_info": {
   "codemirror_mode": {
    "name": "ipython",
    "version": 3
   },
   "file_extension": ".py",
   "mimetype": "text/x-python",
   "name": "python",
   "nbconvert_exporter": "python",
   "pygments_lexer": "ipython3",
   "version": "3.6.1"
  }
 },
 "nbformat": 4,
 "nbformat_minor": 2
}
